{
 "cells": [
  {
   "cell_type": "code",
   "execution_count": 1,
   "id": "dee13c53",
   "metadata": {},
   "outputs": [],
   "source": [
    "from glob import glob"
   ]
  },
  {
   "cell_type": "code",
   "execution_count": 12,
   "id": "e84b6c8a",
   "metadata": {},
   "outputs": [
    {
     "name": "stdout",
     "output_type": "stream",
     "text": [
      "../cancer-driver-variants.csv\n",
      "../cancer-driver-genes.csv\n",
      "../cancer-testis-antigens.csv\n",
      "../class1-mhc-presentation-pathway.csv\n",
      "../interferon-response.csv\n"
     ]
    }
   ],
   "source": [
    "import pandas as pd\n",
    "from pyensembl import ensembl_grch38\n",
    "for csv in glob(\"../*.csv\"):\n",
    "    print(csv)\n",
    "    df = pd.read_csv(csv)\n",
    "\n",
    "    if \"Symbol\" in df.columns:\n",
    "        pass\n",
    "    else:\n",
    "        df_new = df.rename(columns={\n",
    "            \"Gene\": \"Symbol\", \n",
    "            \"Ensembl Transcript ID\": \"Ensembl_Transcript_ID\", \n",
    "            \"Ensembl Gene ID\": \"Ensembl_Gene_ID\",\n",
    "            \"Tissue Frequency\": \"Tissue_Frequency\",\n",
    "            \"Pancan Frequency\": \"Pancan_Frequency\",\n",
    "        })\n",
    "        aliases = []\n",
    "        for gene_id, gene_name in zip(df_new.Ensembl_Gene_ID, df_new.Symbol):\n",
    "            gene = ensembl_grch38.gene_by_id(gene_id)\n",
    "            if gene.name != gene_name:\n",
    "                aliases.append(gene.name)\n",
    "            else:\n",
    "                aliases.append(None)\n",
    "        df_new[\"Aliases\"] = aliases\n",
    "        df_new.to_csv(csv.split(\"/\")[-1])"
   ]
  },
  {
   "cell_type": "code",
   "execution_count": null,
   "id": "7cf33be3",
   "metadata": {},
   "outputs": [],
   "source": []
  }
 ],
 "metadata": {
  "kernelspec": {
   "display_name": "Python 3 (ipykernel)",
   "language": "python",
   "name": "python3"
  },
  "language_info": {
   "codemirror_mode": {
    "name": "ipython",
    "version": 3
   },
   "file_extension": ".py",
   "mimetype": "text/x-python",
   "name": "python",
   "nbconvert_exporter": "python",
   "pygments_lexer": "ipython3",
   "version": "3.10.10"
  }
 },
 "nbformat": 4,
 "nbformat_minor": 5
}
