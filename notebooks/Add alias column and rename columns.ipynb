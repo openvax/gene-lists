{
 "cells": [
  {
   "cell_type": "code",
   "execution_count": 1,
   "id": "f609f7d0",
   "metadata": {},
   "outputs": [],
   "source": [
    "from glob import glob"
   ]
  },
  {
   "cell_type": "code",
   "execution_count": 30,
   "id": "2614967b",
   "metadata": {},
   "outputs": [
    {
     "name": "stdout",
     "output_type": "stream",
     "text": [
      "../cancer-driver-variants.csv\n",
      "../cancer-driver-genes.csv\n",
      "../cancer-testis-antigens.csv\n",
      "../class1-mhc-presentation-pathway.csv\n",
      "../interferon-response.csv\n"
     ]
    }
   ],
   "source": [
    "import pandas as pd\n",
    "from pyensembl import ensembl_grch38\n",
    "from shutil import copyfile\n",
    "for csv in glob(\"../*.csv\"):\n",
    "    print(csv)\n",
    "    df = pd.read_csv(csv)\n",
    "\n",
    "    if \"Symbol\" in df.columns:\n",
    "        pass\n",
    "    else:\n",
    "        df_new = df.rename(columns={\n",
    "            \"Gene\": \"Symbol\", \n",
    "            \"Ensembl Transcript ID\": \"Ensembl_Transcript_ID\", \n",
    "            \"Ensembl Gene ID\": \"Ensembl_Gene_ID\",\n",
    "            \"Tissue Frequency\": \"Tissue_Frequency\",\n",
    "            \"Pancan Frequency\": \"Pancan_Frequency\",\n",
    "        })\n",
    "        aliases = []\n",
    "        for gene_id, gene_name in zip(df_new.Ensembl_Gene_ID, df_new.Symbol):\n",
    "            gene = ensembl_grch38.gene_by_id(gene_id)\n",
    "            if gene.name != gene_name:\n",
    "                aliases.append(gene.name)\n",
    "            else:\n",
    "                aliases.append(None)\n",
    "        df_new[\"Aliases\"] = aliases\n",
    "        cols = df_new.columns\n",
    "        cols = [cols[0], cols[-1]] + list(cols[1:-1])\n",
    "        local_path = csv.split(\"/\")[-1]\n",
    "        df_new = df_new[cols]\n",
    "        df_new.to_csv(local_path, index=False)\n",
    "        df_load = pd.read_csv(local_path)\n",
    "        if len(df_load) == len(df_new) and (df_load.columns.values == df_new.columns.values).all():\n",
    "            copyfile(local_path, csv)\n",
    "        else:\n",
    "            assert False, \"Columns rearranged in saved CSV for %s\" % csv"
   ]
  },
  {
   "cell_type": "code",
   "execution_count": null,
   "id": "d0613b5a",
   "metadata": {},
   "outputs": [],
   "source": []
  }
 ],
 "metadata": {
  "kernelspec": {
   "display_name": "Python 3 (ipykernel)",
   "language": "python",
   "name": "python3"
  },
  "language_info": {
   "codemirror_mode": {
    "name": "ipython",
    "version": 3
   },
   "file_extension": ".py",
   "mimetype": "text/x-python",
   "name": "python",
   "nbconvert_exporter": "python",
   "pygments_lexer": "ipython3",
   "version": "3.10.10"
  }
 },
 "nbformat": 4,
 "nbformat_minor": 5
}
